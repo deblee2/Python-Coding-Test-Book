{
  "nbformat": 4,
  "nbformat_minor": 0,
  "metadata": {
    "colab": {
      "name": "이코테_Ch03_Greedy.ipynb",
      "provenance": [],
      "collapsed_sections": []
    },
    "kernelspec": {
      "name": "python3",
      "display_name": "Python 3"
    },
    "language_info": {
      "name": "python"
    }
  },
  "cells": [
    {
      "cell_type": "markdown",
      "metadata": {
        "id": "W-GtywgT0giJ"
      },
      "source": [
        "### 이것이 취업을 위한 코딩 테스트다\n",
        "#### CH 03 그리디"
      ]
    },
    {
      "cell_type": "code",
      "metadata": {
        "colab": {
          "base_uri": "https://localhost:8080/"
        },
        "id": "r0Azng6oul0j",
        "outputId": "94d47e60-49c8-4cb2-fda2-7f3310df0ef6"
      },
      "source": [
        "# 2. 큰 수의 법칙\n",
        "n, m, k = map(int, input().split())\n",
        "data = list(map(int, input().split()))\n",
        "\n",
        "data.sort()\n",
        "first = data[n-1]\n",
        "second = data[n-2]\n",
        "result = 0\n",
        "\n",
        "while True:\n",
        "  for i in range(k):\n",
        "  # k번 반복하여 가장 큰 수를 누적한 후 m값을 1 감소\n",
        "    if m == 0:\n",
        "      break\n",
        "    result += first\n",
        "    m -= 1\n",
        "  # 특정 인덱스의 수가 연속해서 k번까지 더해지면 result값에 두번째로 큰 수 누적\n",
        "  if m == 0:\n",
        "    break\n",
        "  result += second\n",
        "  m -= 1\n",
        "\n",
        "print(result)"
      ],
      "execution_count": null,
      "outputs": [
        {
          "output_type": "stream",
          "name": "stdout",
          "text": [
            "5 8 3\n",
            "2 4 5 4 6\n",
            "46\n"
          ]
        }
      ]
    },
    {
      "cell_type": "code",
      "metadata": {
        "colab": {
          "base_uri": "https://localhost:8080/"
        },
        "id": "7egLJOfnvakt",
        "outputId": "c8e4a652-a725-4fad-cf2a-2303576d02fb"
      },
      "source": [
        "# 다른 풀이 방법\n",
        "# 가장 큰 수가 더해지는 횟수를 구한 다음\n",
        "# 이를 이용해 두 번째로 큰 수가 더해지는 횟수까지 구하기\n",
        "\n",
        "n, m, k = map(int, input().split())\n",
        "data = list(map(int, input().split()))\n",
        "\n",
        "data.sort()\n",
        "first = data[n-1]\n",
        "second = data[n-2]\n",
        "\n",
        "# 가장 큰 수가 더해지는 횟수 계산\n",
        "count = int(m / (k + 1)) * k\n",
        "count += m % (k + 1)\n",
        "\n",
        "result = 0\n",
        "result += count * first #가장 큰 수 더하기\n",
        "result += (m-count) * second # 두번째로 큰 수 더하기\n",
        "\n",
        "print(result)"
      ],
      "execution_count": null,
      "outputs": [
        {
          "output_type": "stream",
          "name": "stdout",
          "text": [
            "5 8 3\n",
            "2 4 5 4 6\n",
            "46\n"
          ]
        }
      ]
    },
    {
      "cell_type": "code",
      "metadata": {
        "colab": {
          "base_uri": "https://localhost:8080/"
        },
        "id": "WlOqY4daw4DM",
        "outputId": "b4ef2cba-8f8c-4ac7-ef3c-e113c042e755"
      },
      "source": [
        "# 숫자 카드 게임\n",
        "n, m = map(int, input().split())\n",
        "\n",
        "result = 0\n",
        "#한 줄씩 입력 받아 확인\n",
        "for i in range(n):\n",
        "  data = list(map(int, input().split()))\n",
        "  #data.sort()\n",
        "  min_val = min(data)\n",
        "  result = max(result, min_val)\n",
        "\n",
        "print(result)"
      ],
      "execution_count": null,
      "outputs": [
        {
          "output_type": "stream",
          "name": "stdout",
          "text": [
            "3 3\n",
            "3 1 2\n",
            "4 1 4\n",
            "2 2 2\n",
            "2\n"
          ]
        }
      ]
    },
    {
      "cell_type": "code",
      "metadata": {
        "colab": {
          "base_uri": "https://localhost:8080/"
        },
        "id": "Ce95nbwnx7LY",
        "outputId": "f5cdff4f-7f5b-4bac-b8ba-1f85e7486394"
      },
      "source": [
        "# 다른 풀이\n",
        "n, m = map(int, input().split())\n",
        "\n",
        "result = 0\n",
        "for i in range(n):\n",
        "  data = list(map(int, input().split()))\n",
        "  # 현재 줄에서 가장 작은 수 찾기\n",
        "  min_val = 10001\n",
        "  for a in data:\n",
        "    min_val = min(min_val, a)\n",
        "  # 가장 작은 수들 중에서 가장 큰 수 찾기\n",
        "  result = max(result, min_val)\n",
        "\n",
        "print(result)"
      ],
      "execution_count": null,
      "outputs": [
        {
          "output_type": "stream",
          "name": "stdout",
          "text": [
            "2 4\n",
            "7 3 1 8\n",
            "3 3 3 4\n",
            "3\n"
          ]
        }
      ]
    },
    {
      "cell_type": "code",
      "metadata": {
        "colab": {
          "base_uri": "https://localhost:8080/"
        },
        "id": "LMIL-CJNyTYG",
        "outputId": "0074b74d-d447-4583-fd91-cde5614300e9"
      },
      "source": [
        "# 1이 될 때까지\n",
        "n, k = map(int, input().split())\n",
        "result = 0\n",
        "\n",
        "while n>=k:\n",
        "  # N이 K로 나누어 떨어지지 않는다면 N에서 1씩 빼기\n",
        "  while n % k != 0:\n",
        "    n -= 1\n",
        "    result += 1\n",
        "  n //= k\n",
        "  result += 1\n",
        "\n",
        "# 마지막으로 남은 수에 대해서 1씩 빼기\n",
        "while n > 1:\n",
        "  n -= 1\n",
        "  result += 1\n",
        "\n",
        "print(result)"
      ],
      "execution_count": null,
      "outputs": [
        {
          "output_type": "stream",
          "name": "stdout",
          "text": [
            "25 5\n",
            "2\n"
          ]
        }
      ]
    },
    {
      "cell_type": "code",
      "metadata": {
        "colab": {
          "base_uri": "https://localhost:8080/"
        },
        "id": "DGYDtEUlzmPB",
        "outputId": "9011d735-02c9-4f5c-9d63-1c2c43b6cc37"
      },
      "source": [
        "# 다른 풀이\n",
        "n, k = map(int, input().split())\n",
        "result = 0\n",
        "\n",
        "while True:\n",
        "  # (N == K로 나누어 떨어지는 수)가 될 때까지 1씩 빼기\n",
        "  target = (n // k) * k\n",
        "  target += n - target\n",
        "  n = target\n",
        "  # N이 K보다 작을 때\n",
        "  if n < k:\n",
        "    break\n",
        "  result += 1\n",
        "  n //= k\n",
        "\n",
        "# 마지막으로 남은 수에 대하여 1씩 빼기\n",
        "result += (n - 1)\n",
        "print(result)\n"
      ],
      "execution_count": null,
      "outputs": [
        {
          "output_type": "stream",
          "name": "stdout",
          "text": [
            "25 5\n",
            "2\n"
          ]
        }
      ]
    }
  ]
}